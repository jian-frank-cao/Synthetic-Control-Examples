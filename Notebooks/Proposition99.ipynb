{
 "cells": [
  {
   "cell_type": "code",
   "execution_count": 1,
   "metadata": {},
   "outputs": [],
   "source": [
    "from matplotlib import pyplot as plt\n",
    "\n",
    "import pyreadr\n",
    "import numpy as np\n",
    "import pandas as pd\n",
    "import copy\n",
    "from scipy.optimize import fmin_slsqp\n",
    "from sklearn.metrics import mean_squared_error"
   ]
  },
  {
   "cell_type": "code",
   "execution_count": 2,
   "metadata": {},
   "outputs": [],
   "source": [
    "START_TIME = 1970\n",
    "INTERVENTION_TIME = 1989\n",
    "STOP_TIME = 2001"
   ]
  },
  {
   "cell_type": "markdown",
   "metadata": {},
   "source": [
    "'smoking.rda' data taken from https://github.com/johnson-shuffle/mixtape/tree/master/data\n",
    "\n",
    "'prop99.csv' taken from https://github.com/jehangiramjad/tslib/tree/master/tests/testdata"
   ]
  },
  {
   "cell_type": "code",
   "execution_count": 3,
   "metadata": {},
   "outputs": [],
   "source": [
    "df_outcome_raw = pd.read_csv('../Data/prop99.csv')\n",
    "df_outcome_raw = df_outcome_raw[df_outcome_raw['SubMeasureDesc'] == 'Cigarette Consumption (Pack Sales Per Capita)']\n",
    "df_outcome = pd.DataFrame(df_outcome_raw.pivot_table(values='Data_Value', index='LocationDesc', columns=['Year']).to_records())\n",
    "\n",
    "rda_predictors = pyreadr.read_r('../Data/smoking.rda')\n",
    "df_predictors = pd.DataFrame(list(rda_predictors.values())[0])"
   ]
  },
  {
   "cell_type": "code",
   "execution_count": 4,
   "metadata": {},
   "outputs": [
    {
     "name": "stdout",
     "output_type": "stream",
     "text": [
      "In the original dataset there are 51 states\n",
      "After filtering out some states, we are left with 39 states (including California):\n"
     ]
    },
    {
     "data": {
      "text/html": [
       "<div>\n",
       "<style scoped>\n",
       "    .dataframe tbody tr th:only-of-type {\n",
       "        vertical-align: middle;\n",
       "    }\n",
       "\n",
       "    .dataframe tbody tr th {\n",
       "        vertical-align: top;\n",
       "    }\n",
       "\n",
       "    .dataframe thead th {\n",
       "        text-align: right;\n",
       "    }\n",
       "</style>\n",
       "<table border=\"1\" class=\"dataframe\">\n",
       "  <thead>\n",
       "    <tr style=\"text-align: right;\">\n",
       "      <th></th>\n",
       "      <th>org_index</th>\n",
       "      <th>LocationDesc</th>\n",
       "      <th>1970</th>\n",
       "      <th>1971</th>\n",
       "      <th>1972</th>\n",
       "      <th>1973</th>\n",
       "      <th>1974</th>\n",
       "      <th>1975</th>\n",
       "      <th>1976</th>\n",
       "      <th>1977</th>\n",
       "      <th>...</th>\n",
       "      <th>2005</th>\n",
       "      <th>2006</th>\n",
       "      <th>2007</th>\n",
       "      <th>2008</th>\n",
       "      <th>2009</th>\n",
       "      <th>2010</th>\n",
       "      <th>2011</th>\n",
       "      <th>2012</th>\n",
       "      <th>2013</th>\n",
       "      <th>2014</th>\n",
       "    </tr>\n",
       "  </thead>\n",
       "  <tbody>\n",
       "    <tr>\n",
       "      <th>0</th>\n",
       "      <td>0</td>\n",
       "      <td>Alabama</td>\n",
       "      <td>89.8</td>\n",
       "      <td>95.4</td>\n",
       "      <td>101.1</td>\n",
       "      <td>102.9</td>\n",
       "      <td>108.2</td>\n",
       "      <td>111.7</td>\n",
       "      <td>116.2</td>\n",
       "      <td>117.1</td>\n",
       "      <td>...</td>\n",
       "      <td>82.4</td>\n",
       "      <td>83.3</td>\n",
       "      <td>80.2</td>\n",
       "      <td>78.0</td>\n",
       "      <td>75.6</td>\n",
       "      <td>71.5</td>\n",
       "      <td>68.4</td>\n",
       "      <td>67.2</td>\n",
       "      <td>64.6</td>\n",
       "      <td>61.7</td>\n",
       "    </tr>\n",
       "    <tr>\n",
       "      <th>1</th>\n",
       "      <td>3</td>\n",
       "      <td>Arkansas</td>\n",
       "      <td>100.3</td>\n",
       "      <td>104.1</td>\n",
       "      <td>103.9</td>\n",
       "      <td>108.0</td>\n",
       "      <td>109.7</td>\n",
       "      <td>114.8</td>\n",
       "      <td>119.1</td>\n",
       "      <td>122.6</td>\n",
       "      <td>...</td>\n",
       "      <td>82.1</td>\n",
       "      <td>81.4</td>\n",
       "      <td>78.4</td>\n",
       "      <td>77.0</td>\n",
       "      <td>72.6</td>\n",
       "      <td>63.2</td>\n",
       "      <td>61.1</td>\n",
       "      <td>60.5</td>\n",
       "      <td>57.5</td>\n",
       "      <td>54.4</td>\n",
       "    </tr>\n",
       "    <tr>\n",
       "      <th>2</th>\n",
       "      <td>4</td>\n",
       "      <td>California</td>\n",
       "      <td>123.0</td>\n",
       "      <td>121.0</td>\n",
       "      <td>123.5</td>\n",
       "      <td>124.4</td>\n",
       "      <td>126.7</td>\n",
       "      <td>127.1</td>\n",
       "      <td>128.0</td>\n",
       "      <td>126.4</td>\n",
       "      <td>...</td>\n",
       "      <td>33.1</td>\n",
       "      <td>32.9</td>\n",
       "      <td>31.8</td>\n",
       "      <td>30.3</td>\n",
       "      <td>28.8</td>\n",
       "      <td>26.3</td>\n",
       "      <td>26.0</td>\n",
       "      <td>25.2</td>\n",
       "      <td>23.9</td>\n",
       "      <td>22.7</td>\n",
       "    </tr>\n",
       "    <tr>\n",
       "      <th>3</th>\n",
       "      <td>5</td>\n",
       "      <td>Colorado</td>\n",
       "      <td>124.8</td>\n",
       "      <td>125.5</td>\n",
       "      <td>134.3</td>\n",
       "      <td>137.9</td>\n",
       "      <td>132.8</td>\n",
       "      <td>131.0</td>\n",
       "      <td>134.2</td>\n",
       "      <td>132.0</td>\n",
       "      <td>...</td>\n",
       "      <td>57.9</td>\n",
       "      <td>53.1</td>\n",
       "      <td>51.1</td>\n",
       "      <td>48.4</td>\n",
       "      <td>46.0</td>\n",
       "      <td>41.4</td>\n",
       "      <td>40.6</td>\n",
       "      <td>40.6</td>\n",
       "      <td>38.3</td>\n",
       "      <td>36.7</td>\n",
       "    </tr>\n",
       "    <tr>\n",
       "      <th>4</th>\n",
       "      <td>6</td>\n",
       "      <td>Connecticut</td>\n",
       "      <td>120.0</td>\n",
       "      <td>117.6</td>\n",
       "      <td>110.8</td>\n",
       "      <td>109.3</td>\n",
       "      <td>112.4</td>\n",
       "      <td>110.2</td>\n",
       "      <td>113.4</td>\n",
       "      <td>117.3</td>\n",
       "      <td>...</td>\n",
       "      <td>49.9</td>\n",
       "      <td>50.9</td>\n",
       "      <td>50.5</td>\n",
       "      <td>47.4</td>\n",
       "      <td>45.9</td>\n",
       "      <td>40.8</td>\n",
       "      <td>36.3</td>\n",
       "      <td>33.5</td>\n",
       "      <td>31.4</td>\n",
       "      <td>30.1</td>\n",
       "    </tr>\n",
       "  </tbody>\n",
       "</table>\n",
       "<p>5 rows × 47 columns</p>\n",
       "</div>"
      ],
      "text/plain": [
       "   org_index LocationDesc   1970   1971   1972   1973   1974   1975   1976  \\\n",
       "0          0      Alabama   89.8   95.4  101.1  102.9  108.2  111.7  116.2   \n",
       "1          3     Arkansas  100.3  104.1  103.9  108.0  109.7  114.8  119.1   \n",
       "2          4   California  123.0  121.0  123.5  124.4  126.7  127.1  128.0   \n",
       "3          5     Colorado  124.8  125.5  134.3  137.9  132.8  131.0  134.2   \n",
       "4          6  Connecticut  120.0  117.6  110.8  109.3  112.4  110.2  113.4   \n",
       "\n",
       "    1977  ...  2005  2006  2007  2008  2009  2010  2011  2012  2013  2014  \n",
       "0  117.1  ...  82.4  83.3  80.2  78.0  75.6  71.5  68.4  67.2  64.6  61.7  \n",
       "1  122.6  ...  82.1  81.4  78.4  77.0  72.6  63.2  61.1  60.5  57.5  54.4  \n",
       "2  126.4  ...  33.1  32.9  31.8  30.3  28.8  26.3  26.0  25.2  23.9  22.7  \n",
       "3  132.0  ...  57.9  53.1  51.1  48.4  46.0  41.4  40.6  40.6  38.3  36.7  \n",
       "4  117.3  ...  49.9  50.9  50.5  47.4  45.9  40.8  36.3  33.5  31.4  30.1  \n",
       "\n",
       "[5 rows x 47 columns]"
      ]
     },
     "execution_count": 4,
     "metadata": {},
     "output_type": "execute_result"
    }
   ],
   "source": [
    "print(f'In the original dataset there are {df_outcome.LocationDesc.unique().shape[0]} states')\n",
    "# Section 3.2 in the paper\n",
    "bad_states = ['Massachusetts', 'Arizona', 'Oregon', 'Florida', 'Alaska', 'Hawaii', 'Maryland', \n",
    "              'Michigan', 'New Jersey', 'New York', 'Washington', 'District of Columbia']\n",
    "\n",
    "df_outcome.drop(df_outcome[df_outcome['LocationDesc'].isin(bad_states)].index, inplace=True)\n",
    "ca_id = df_outcome[df_outcome['LocationDesc'] == 'California'].index.item()\n",
    "df_outcome = df_outcome.reset_index()\n",
    "df_outcome = df_outcome.rename(columns={'index': 'org_index'})\n",
    "print(f'After filtering out some states, we are left with {df_outcome.LocationDesc.unique().shape[0]} states (including California):')\n",
    "df_outcome.head()"
   ]
  },
  {
   "cell_type": "code",
   "execution_count": 5,
   "metadata": {},
   "outputs": [],
   "source": [
    "df_outcome_ca = df_outcome.loc[df_outcome['LocationDesc'] == 'California', :]\n",
    "df_outcome_control = df_outcome.loc[df_outcome['LocationDesc'] != 'California', :]\n",
    "\n",
    "ca_outcomes_pre = df_outcome_ca.loc[:,[str(i) for i in list(range(START_TIME, INTERVENTION_TIME))]].values.reshape(-1,1)\n",
    "control_outcomes_pre = df_outcome_control.loc[:,[str(i) for i in list(range(START_TIME, INTERVENTION_TIME))]].values.transpose()\n",
    "\n",
    "ca_outcomes_post = df_outcome_ca.loc[:,[str(i) for i in list(range(INTERVENTION_TIME, STOP_TIME))]].values.reshape(-1,1)\n",
    "control_outcomes_post = df_outcome_control.loc[:,[str(i) for i in list(range(INTERVENTION_TIME, STOP_TIME))]].values.transpose()\n",
    "\n",
    "Z0 = control_outcomes_pre\n",
    "Z1 = ca_outcomes_pre\n",
    "Y0 = control_outcomes_post\n",
    "Y1 = ca_outcomes_post"
   ]
  },
  {
   "cell_type": "code",
   "execution_count": 6,
   "metadata": {},
   "outputs": [
    {
     "data": {
      "image/png": "[encoded data removed]",
      "text/plain": [
       "<Figure size 540x324 with 1 Axes>"
      ]
     },
     "metadata": {
      "needs_background": "light"
     },
     "output_type": "display_data"
    }
   ],
   "source": [
    "mean_outcomes = np.vstack([Z0, Y0]).mean(axis=1)\n",
    "CA_outcomes = np.vstack([Z1, Y1]).flatten()\n",
    "fig = plt.figure(figsize=(7.5,4.5))\n",
    "plt.plot(range(START_TIME,STOP_TIME),mean_outcomes, 'r--', label=\"rest of the U.S.\");\n",
    "plt.plot(range(START_TIME,STOP_TIME),CA_outcomes, 'b-', label=\"California\");\n",
    "\n",
    "plt.ylabel('per-capita cigarette sales (in packs)')\n",
    "plt.xlabel('year')\n",
    "plt.legend(loc='upper right')\n",
    "plt.title(\"Figure 1: Trends in per-capita cigarette sales: California vs. the rest of the United States\")\n",
    "plt.axvline(INTERVENTION_TIME)\n",
    "plt.text(x=INTERVENTION_TIME+0.2, y=30, s='Passage of Proposition 99')\n",
    "plt.xlim([START_TIME, STOP_TIME-1])\n",
    "plt.ylim([0, 150])\n",
    "plt.grid()\n",
    "plt.show()\n",
    "fig.savefig(\"name\", dpi=300)"
   ]
  },
  {
   "cell_type": "code",
   "execution_count": 7,
   "metadata": {},
   "outputs": [],
   "source": [
    "def extract_predictor_vec(state):\n",
    "    df_outcome_state = df_outcome[df_outcome['LocationDesc'] == state]\n",
    "    cigsale88_predictor = df_outcome_state['1988'].item()\n",
    "    cigsale80_predictor = df_outcome_state['1980'].item()\n",
    "    cigsale75_predictor = df_outcome_state['1975'].item()\n",
    "    \n",
    "    state_id_predictors_df = df_outcome[df_outcome['LocationDesc'] == 'California'].index.item() + 1\n",
    "    df_predictors_state = df_predictors[df_predictors['state'] == state_id_predictors_df]\n",
    "    beer_predictor = df_predictors_state.loc[(df_predictors_state['year'] >= 1984) & (df_predictors_state['year'] < INTERVENTION_TIME), 'beer'].mean()\n",
    "    age15to24_predictor = df_predictors_state.loc[(df_predictors_state['year'] >= 1980) & (df_predictors_state['year'] < INTERVENTION_TIME), 'age15to24'].mean()*100  # Should I turn multiply by 100? In table 1 it looks like it\n",
    "    retprice_predictor = df_predictors_state.loc[(df_predictors_state['year'] >= 1980) & (df_predictors_state['year'] < INTERVENTION_TIME), 'retprice'].mean()\n",
    "    lnincome_predictor = df_predictors_state.loc[(df_predictors_state['year'] >= 1980) & (df_predictors_state['year'] < INTERVENTION_TIME), 'lnincome'].mean()\n",
    "    \n",
    "    return np.array([lnincome_predictor, age15to24_predictor, retprice_predictor, beer_predictor,  \n",
    "                     cigsale88_predictor, cigsale80_predictor, cigsale75_predictor]).reshape(-1,1)"
   ]
  },
  {
   "cell_type": "code",
   "execution_count": 8,
   "metadata": {},
   "outputs": [],
   "source": [
    "control_predictors = []\n",
    "for state in df_outcome['LocationDesc'].unique():\n",
    "    state_predictor_vec = extract_predictor_vec(state)\n",
    "    if state == 'California':\n",
    "        ca_predictors = state_predictor_vec\n",
    "    else:\n",
    "        control_predictors += [state_predictor_vec]\n",
    "\n",
    "control_predictors = np.hstack(control_predictors)\n",
    "\n",
    "X0 = control_predictors\n",
    "X1 = ca_predictors"
   ]
  },
  {
   "cell_type": "code",
   "execution_count": 9,
   "metadata": {},
   "outputs": [
    {
     "name": "stdout",
     "output_type": "stream",
     "text": [
      "Optimization terminated successfully    (Exit mode 0)\n",
      "            Current function value: 23.45850495358178\n",
      "            Iterations: 5\n",
      "            Function evaluations: 8\n",
      "            Gradient evaluations: 1\n"
     ]
    }
   ],
   "source": [
    "def w_mse(w, v, x0, x1): return mean_squared_error(x1, x0.dot(w), sample_weight=v)\n",
    "\n",
    "def w_constraint(w, v, x0, x1): return np.sum(w) - 1\n",
    "\n",
    "def v_constraint(V, W, X0, X1, Z0, Z1): return np.sum(V) - 1\n",
    "\n",
    "def fun_w(w, v, x0, x1): return fmin_slsqp(w_mse, w, bounds=[(0.0, 1.0)]*len(w), f_eqcons=w_constraint, \n",
    "                                           args=(v, x0, x1), disp=False, full_output=True)[0]\n",
    "\n",
    "def fun_v(v, w, x0, x1, z0, z1): return mean_squared_error(z1, z0.dot(fun_w(w, v, x0, x1)))\n",
    "\n",
    "def solve_synthetic_control(X0, X1, Z0, Z1, Y0):\n",
    "    k,j = X0.shape\n",
    "    V0 = 1/k*np.ones(k)\n",
    "    W0 = 1/j*np.zeros(j).transpose()\n",
    "    V = fmin_slsqp(fun_v, V0, args=(W0, X0, X1, Z0, Z1), bounds=[(0.0, 1.0)]*len(V0), disp=True, f_eqcons=v_constraint, acc=1e-6)\n",
    "    W = fun_w(W0, V, X0, X1)\n",
    "    return V, W\n",
    "\n",
    "V, W = solve_synthetic_control(X0, X1, Z0, Z1, Y0)"
   ]
  },
  {
   "cell_type": "code",
   "execution_count": 10,
   "metadata": {},
   "outputs": [
    {
     "data": {
      "image/png": "[encoded data removed]",
      "text/plain": [
       "<Figure size 540x324 with 1 Axes>"
      ]
     },
     "metadata": {
      "needs_background": "light"
     },
     "output_type": "display_data"
    }
   ],
   "source": [
    "SC_outcomes = np.vstack([Z0, Y0]).dot(W)\n",
    "CA_outcomes = np.vstack([Z1, Y1]).flatten()\n",
    "fig = plt.figure(figsize=(7.5,4.5)) \n",
    "\n",
    "plt.plot(range(START_TIME,STOP_TIME),SC_outcomes, 'r--', label=\"Synthetic California\");\n",
    "plt.plot(range(START_TIME,STOP_TIME),CA_outcomes, 'b-', label=\"California\");\n",
    "\n",
    "plt.ylabel('per-capita cigarette sales (in packs)')\n",
    "plt.xlabel('year')\n",
    "plt.legend(loc='upper right')\n",
    "plt.title(\"Figure 2: Trends in per-capita cigarette sales: California vs. synthetic California\")\n",
    "plt.axvline(INTERVENTION_TIME)\n",
    "plt.text(x=INTERVENTION_TIME+0.2, y=30, s='Passage of Proposition 99')\n",
    "plt.xlim([START_TIME, STOP_TIME-1])\n",
    "plt.ylim([0, 140])\n",
    "plt.grid()\n",
    "plt.show()\n",
    "fig.savefig(\"prop99_figure2\", dpi=300)"
   ]
  },
  {
   "cell_type": "markdown",
   "metadata": {},
   "source": [
    "#### Table 1"
   ]
  },
  {
   "cell_type": "code",
   "execution_count": 11,
   "metadata": {},
   "outputs": [
    {
     "name": "stdout",
     "output_type": "stream",
     "text": [
      "Table 1: Cigarette sales predictor means \n",
      "\n"
     ]
    },
    {
     "data": {
      "text/html": [
       "<div>\n",
       "<style scoped>\n",
       "    .dataframe tbody tr th:only-of-type {\n",
       "        vertical-align: middle;\n",
       "    }\n",
       "\n",
       "    .dataframe tbody tr th {\n",
       "        vertical-align: top;\n",
       "    }\n",
       "\n",
       "    .dataframe thead th {\n",
       "        text-align: right;\n",
       "    }\n",
       "</style>\n",
       "<table border=\"1\" class=\"dataframe\">\n",
       "  <thead>\n",
       "    <tr style=\"text-align: right;\">\n",
       "      <th></th>\n",
       "      <th>Real California</th>\n",
       "      <th>Synthetic California</th>\n",
       "      <th>Average of 38 Controls</th>\n",
       "    </tr>\n",
       "  </thead>\n",
       "  <tbody>\n",
       "    <tr>\n",
       "      <th>0</th>\n",
       "      <td>10.076559</td>\n",
       "      <td>10.076559</td>\n",
       "      <td>10.076559</td>\n",
       "    </tr>\n",
       "    <tr>\n",
       "      <th>1</th>\n",
       "      <td>17.353238</td>\n",
       "      <td>17.353238</td>\n",
       "      <td>17.353238</td>\n",
       "    </tr>\n",
       "    <tr>\n",
       "      <th>2</th>\n",
       "      <td>89.422223</td>\n",
       "      <td>89.422223</td>\n",
       "      <td>89.422223</td>\n",
       "    </tr>\n",
       "    <tr>\n",
       "      <th>3</th>\n",
       "      <td>24.280000</td>\n",
       "      <td>24.280000</td>\n",
       "      <td>24.280000</td>\n",
       "    </tr>\n",
       "    <tr>\n",
       "      <th>4</th>\n",
       "      <td>90.100000</td>\n",
       "      <td>90.099950</td>\n",
       "      <td>113.823684</td>\n",
       "    </tr>\n",
       "    <tr>\n",
       "      <th>5</th>\n",
       "      <td>120.200000</td>\n",
       "      <td>120.200020</td>\n",
       "      <td>138.089474</td>\n",
       "    </tr>\n",
       "    <tr>\n",
       "      <th>6</th>\n",
       "      <td>127.100000</td>\n",
       "      <td>127.100214</td>\n",
       "      <td>136.931579</td>\n",
       "    </tr>\n",
       "  </tbody>\n",
       "</table>\n",
       "</div>"
      ],
      "text/plain": [
       "   Real California  Synthetic California  Average of 38 Controls\n",
       "0        10.076559             10.076559               10.076559\n",
       "1        17.353238             17.353238               17.353238\n",
       "2        89.422223             89.422223               89.422223\n",
       "3        24.280000             24.280000               24.280000\n",
       "4        90.100000             90.099950              113.823684\n",
       "5       120.200000            120.200020              138.089474\n",
       "6       127.100000            127.100214              136.931579"
      ]
     },
     "metadata": {},
     "output_type": "display_data"
    }
   ],
   "source": [
    "mean_predictors = X0.mean(axis=1)\n",
    "print(\"Table 1: Cigarette sales predictor means \\n\")\n",
    "display(pd.DataFrame(np.hstack([X1, X0.dot(W).reshape(-1,1), mean_predictors.reshape(-1,1)]), \n",
    "             columns=['Real California', 'Synthetic California', 'Average of 38 Controls']))"
   ]
  },
  {
   "cell_type": "markdown",
   "metadata": {},
   "source": [
    "#### Table 2: Top 5 donors"
   ]
  },
  {
   "cell_type": "code",
   "execution_count": 12,
   "metadata": {},
   "outputs": [
    {
     "data": {
      "text/plain": [
       "['Utah', 'North Carolina', 'North Dakota', 'Montana', 'New Hampshire']"
      ]
     },
     "execution_count": 12,
     "metadata": {},
     "output_type": "execute_result"
    }
   ],
   "source": [
    "list(df_outcome['LocationDesc'].values[1+np.flip(W.argsort())][:5])\n",
    "# In the paper: Colorado, Connecticut, Montana, Nevada, Utah"
   ]
  },
  {
   "cell_type": "markdown",
   "metadata": {},
   "source": [
    "#### Figure 3"
   ]
  },
  {
   "cell_type": "code",
   "execution_count": 13,
   "metadata": {},
   "outputs": [
    {
     "data": {
      "image/png": "[encoded data removed]",
      "text/plain": [
       "<Figure size 540x324 with 1 Axes>"
      ]
     },
     "metadata": {
      "needs_background": "light"
     },
     "output_type": "display_data"
    }
   ],
   "source": [
    "Gap_outcome = np.vstack([Z0, Y0]).dot(W) - np.vstack([Z1, Y1]).flatten()\n",
    "fig = plt.figure(figsize=(7.5,4.5)) \n",
    "\n",
    "plt.plot(range(START_TIME,STOP_TIME),Gap_outcome, 'r--');\n",
    "plt.ylabel('gap in per-capita cigarette sales (in packs)')\n",
    "plt.xlabel('year')\n",
    "plt.title(\"Figure 3: Per-capita cigarette sales gap between California and synthetic California\")\n",
    "plt.axhline(0)\n",
    "plt.axvline(INTERVENTION_TIME)\n",
    "plt.text(x=INTERVENTION_TIME-9.5, y=30, s='Passage of Proposition 99')\n",
    "plt.xlim([START_TIME, STOP_TIME-1])\n",
    "plt.ylim([35, -35])\n",
    "plt.grid()\n",
    "plt.show()\n",
    "fig.savefig(\"prop99_figure3\", dpi=300)"
   ]
  }
 ],
 "metadata": {
  "kernelspec": {
   "display_name": "Python 3 (ipykernel)",
   "language": "python",
   "name": "python3"
  },
  "language_info": {
   "codemirror_mode": {
    "name": "ipython",
    "version": 3
   },
   "file_extension": ".py",
   "mimetype": "text/x-python",
   "name": "python",
   "nbconvert_exporter": "python",
   "pygments_lexer": "ipython3",
   "version": "3.10.4"
  }
 },
 "nbformat": 4,
 "nbformat_minor": 2
}
